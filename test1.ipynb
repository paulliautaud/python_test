{
 "cells": [
  {
   "cell_type": "markdown",
   "metadata": {
    "deletable": false,
    "editable": false,
    "nbgrader": {
     "cell_type": "markdown",
     "checksum": "b4a0447d3261ec9da7aac1f5cc4954f5",
     "grade": false,
     "grade_id": "direction1",
     "locked": true,
     "schema_version": 3,
     "solution": false
    }
   },
   "source": [
    "# `Python` test\n",
    "\n",
    "---\n",
    "*Paul Liautaud*\n",
    "\n",
    "This small test is simply to *evaluate your general level* in order to better prepare the sessions. The scale is only indicative and the final grade will not be taken into account. A program will automatically correct your assignment and will inform me of the points well or less well passed.\n",
    "\n",
    "If any question or problem, do not hesitate : <paul.liautaud@sorbonne-universite.fr>\n",
    "\n",
    "---\n",
    "\n",
    "**Some directions:** <br>\n",
    "Do this little work by yourself, as explained it won't matter much to you. It would not take so much time (like 30 minutes). <br>\n",
    "Then I will ask you to deposit your assignment in this [depository](https://www.dropbox.com/request/LAwOieQxl89e7sHjGgay) by the first class.\n",
    "\n",
    "## Table of contents\n",
    "1. [Some basics](#part1)\n",
    "1. [Algorithm study](#part2)\n",
    "1. [Hoeffding Inequality](#part3)"
   ]
  },
  {
   "cell_type": "markdown",
   "metadata": {
    "deletable": false,
    "editable": false,
    "nbgrader": {
     "cell_type": "markdown",
     "checksum": "37317f1b7cbd1522e2e0c0c037d7a05f",
     "grade": false,
     "grade_id": "exo1",
     "locked": true,
     "schema_version": 3,
     "solution": false,
     "task": false
    }
   },
   "source": [
    "---\n",
    "# Exercise 1 - Back to basics <a id=\"part1\"></a>\n",
    "## Part A\n",
    "\n",
    "Write a function that returns a list of numbers, such that $x_i=i^2$, for $1\\leq i \\leq n$. Make sure it handles the case where $n<1$ by raising a `ValueError`."
   ]
  },
  {
   "cell_type": "code",
   "execution_count": null,
   "metadata": {
    "deletable": false,
    "nbgrader": {
     "cell_type": "code",
     "checksum": "8f1eab8d02a9520920aa06f8a86a2492",
     "grade": false,
     "grade_id": "squares",
     "locked": false,
     "schema_version": 3,
     "solution": true
    }
   },
   "outputs": [],
   "source": [
    "def squares(n):\n",
    "    \"\"\"Compute the squares of numbers from 1 to n, such that the \n",
    "    ith element of the returned list equals i^2.\n",
    "    \n",
    "    \"\"\"\n",
    "    # YOUR CODE HERE\n",
    "    raise NotImplementedError()"
   ]
  },
  {
   "cell_type": "markdown",
   "metadata": {},
   "source": [
    "Your function should print `[1, 4, 9, 16, 25, 36, 49, 64, 81, 100]` for $n=10$. Check that it does:"
   ]
  },
  {
   "cell_type": "code",
   "execution_count": null,
   "metadata": {
    "deletable": false,
    "editable": false,
    "nbgrader": {
     "cell_type": "code",
     "checksum": "ca09f9a21153b2ba7ec3dfa954c607a8",
     "grade": true,
     "grade_id": "cell-f88c29d511e7a0b2",
     "locked": true,
     "points": 2.5,
     "schema_version": 3,
     "solution": false,
     "task": false
    }
   },
   "outputs": [],
   "source": [
    "squares(10)"
   ]
  },
  {
   "cell_type": "markdown",
   "metadata": {},
   "source": [
    "---\n",
    "\n",
    "## Part B\n",
    "\n",
    "Using your `squares` function, write a function that computes the sum of the squares of the numbers from $1$ to $n$. Your function should call the `squares` function -- it should NOT reimplement its functionality."
   ]
  },
  {
   "cell_type": "code",
   "execution_count": null,
   "metadata": {
    "deletable": false,
    "nbgrader": {
     "cell_type": "code",
     "checksum": "166e1abc6621f93f8084ec312c49f757",
     "grade": false,
     "grade_id": "sum_of_squares",
     "locked": false,
     "schema_version": 3,
     "solution": true
    }
   },
   "outputs": [],
   "source": [
    "def sum_of_squares(n):\n",
    "    \"\"\"Compute the sum of the squares of numbers from 1 to n.\"\"\"\n",
    "    # YOUR CODE HERE\n",
    "    raise NotImplementedError()"
   ]
  },
  {
   "cell_type": "markdown",
   "metadata": {},
   "source": [
    "The sum of squares from $1$ to $10$ should be $385$. Verify that this is the answer you get:"
   ]
  },
  {
   "cell_type": "code",
   "execution_count": null,
   "metadata": {
    "deletable": false,
    "editable": false,
    "nbgrader": {
     "cell_type": "code",
     "checksum": "c66350551d3878e75c1f6ea100b72d6f",
     "grade": true,
     "grade_id": "correct_sum_of_squares",
     "locked": true,
     "points": 2.5,
     "schema_version": 3,
     "solution": false,
     "task": false
    }
   },
   "outputs": [],
   "source": [
    "sum_of_squares(10)"
   ]
  },
  {
   "cell_type": "markdown",
   "metadata": {},
   "source": [
    "---\n",
    "## Part D\n",
    "\n",
    "Let's consider now that the output of the `squares` function provides the terms of a sequence $(u_n)$. \n",
    "The goal will be to design a graph with its first iterates.\n",
    "\n",
    "Import the usual `Python` library for 2D graphics."
   ]
  },
  {
   "cell_type": "code",
   "execution_count": null,
   "metadata": {
    "deletable": false,
    "nbgrader": {
     "cell_type": "code",
     "checksum": "fe7060cc47e70556df265e10b14804a2",
     "grade": true,
     "grade_id": "library",
     "locked": false,
     "points": 1,
     "schema_version": 3,
     "solution": true,
     "task": false
    }
   },
   "outputs": [],
   "source": [
    "# YOUR CODE HERE\n",
    "raise NotImplementedError()"
   ]
  },
  {
   "cell_type": "markdown",
   "metadata": {},
   "source": [
    "Write a function `plot(k)` that plots the first $k \\geq 1$ iterates of the sequence $(u_n)$ in $\\mathbb R^2$."
   ]
  },
  {
   "cell_type": "code",
   "execution_count": null,
   "metadata": {
    "deletable": false,
    "nbgrader": {
     "cell_type": "code",
     "checksum": "7033f88c6b5dba901ed95b126af31164",
     "grade": true,
     "grade_id": "plot",
     "locked": false,
     "points": 2,
     "schema_version": 3,
     "solution": true,
     "task": false
    }
   },
   "outputs": [],
   "source": [
    "def plot(k):\n",
    "    \"\"\"Plots the first k iterates of the squares sequence\"\"\"\n",
    "    # YOUR CODE HERE\n",
    "    raise NotImplementedError()"
   ]
  },
  {
   "cell_type": "markdown",
   "metadata": {},
   "source": [
    "Your function should print the following for $k=10$. Check that it does.\n",
    "\n",
    "![](plot.png)"
   ]
  },
  {
   "cell_type": "code",
   "execution_count": null,
   "metadata": {
    "deletable": false,
    "editable": false,
    "nbgrader": {
     "cell_type": "code",
     "checksum": "2e3af014dfbaff0d3720e8de3d268ca1",
     "grade": true,
     "grade_id": "test",
     "locked": true,
     "points": 0,
     "schema_version": 3,
     "solution": false,
     "task": false
    }
   },
   "outputs": [],
   "source": [
    "plot(10)"
   ]
  },
  {
   "cell_type": "markdown",
   "metadata": {},
   "source": [
    "---\n",
    "# Exercise 2 - Sequence again ! <a id=\"part2\"></a>\n",
    "\n",
    "Consider the following piece of code:\n",
    "\n",
    "```python\n",
    "def f(x):\n",
    "    if x == 0 or x == 1:\n",
    "        return x\n",
    "    return f(x - 1) + f(x - 2)\n",
    "```"
   ]
  },
  {
   "cell_type": "markdown",
   "metadata": {},
   "source": [
    "## Part A\n",
    "\n",
    "Describe, in words, what this code does, and how it does it."
   ]
  },
  {
   "cell_type": "markdown",
   "metadata": {
    "deletable": false,
    "nbgrader": {
     "cell_type": "markdown",
     "checksum": "54f610ad491079430275bd039300eebe",
     "grade": true,
     "grade_id": "algo_explanation",
     "locked": false,
     "points": 1,
     "schema_version": 3,
     "solution": true,
     "task": false
    }
   },
   "source": [
    "YOUR ANSWER HERE"
   ]
  },
  {
   "cell_type": "markdown",
   "metadata": {},
   "source": [
    "## Part B\n",
    "\n",
    "For what inputs will this function not behave as expected? What will happen?"
   ]
  },
  {
   "cell_type": "markdown",
   "metadata": {
    "deletable": false,
    "nbgrader": {
     "cell_type": "markdown",
     "checksum": "b2dcacb4e4a27f3b2c432e8938db5662",
     "grade": true,
     "grade_id": "terminaison",
     "locked": false,
     "points": 2,
     "schema_version": 3,
     "solution": true,
     "task": false
    }
   },
   "source": [
    "YOUR ANSWER HERE"
   ]
  },
  {
   "cell_type": "markdown",
   "metadata": {
    "deletable": false,
    "editable": false,
    "nbgrader": {
     "cell_type": "markdown",
     "checksum": "7e27f6bcc8fed4e3eb6189252ef34d93",
     "grade": false,
     "grade_id": "exo2",
     "locked": true,
     "schema_version": 3,
     "solution": false,
     "task": false
    }
   },
   "source": [
    "---\n",
    "# Problem - Hoeffding inequality  <a id=\"part3\"></a>\n",
    "\n",
    "\n",
    "The goal of this problem is to illustrate the Hoeffding inequality. The statement of the exercise is as follows.\n",
    "\n",
    "\n",
    "\n",
    "<div style=\"padding:3px; padding-left:6px; border:1px dotted #d0d0d0; border-left:4px solid #d0d0d0; margin-left:20px; margin-bottom:15px; font-style:italic;\">\n",
    "<strong>Hoeffding Inequality</strong>:\n",
    "    Let $X_1, \\dots, X_n$ $n$ be independent random variables taking values in $[0, 1]$ and $\\bar X_n = \\frac 1n \\sum_{i=1}^n X_i$.\n",
    "    Then, for all $t>0$,\n",
    "    $$\n",
    "        \\mathbb P \\left(\\left| \\bar X_n - \\mathbb E [\\bar X_n] \\right | \\ge t \\right)\n",
    "        \\le 2 e^{-2nt^2}.\n",
    "    $$\n",
    "</div>\n",
    "\n",
    "\n",
    "\n",
    "To do so, we propose to use an $n$-sample $(X_1, \\dots, X_n)$ of i.i.d. random variables, following the Beta law $\\mathcal B(\\alpha, \\beta)$ with parameters $\\alpha = \\beta = 0.2$. We will ask you to estimate the probability $\\mathbb P \\left(\\left| \\bar X_n - \\mathbb E [\\bar X_n] \\right | \\ge t \\right)$ using $N$ independents $n$-samples.\n",
    "\n",
    "> Your answer will *not* contain any **loop**.\n",
    "\n",
    "*Helper:* you can use the `scipy.stats` paquet, `numpy` and `numpy.array` methods,`matplotlib`, and list comprehension.\n",
    "\n"
   ]
  },
  {
   "cell_type": "markdown",
   "metadata": {
    "deletable": false,
    "editable": false,
    "nbgrader": {
     "cell_type": "markdown",
     "checksum": "24aea10641b9c6dd85c90663ff7583bb",
     "grade": false,
     "grade_id": "import_dir",
     "locked": true,
     "schema_version": 3,
     "solution": false,
     "task": false
    }
   },
   "source": [
    "Import the libraries and tools you need here:"
   ]
  },
  {
   "cell_type": "code",
   "execution_count": null,
   "metadata": {
    "deletable": false,
    "nbgrader": {
     "cell_type": "code",
     "checksum": "60577f09859d672e5238701560e71f28",
     "grade": true,
     "grade_id": "import",
     "locked": false,
     "points": 2,
     "schema_version": 3,
     "solution": true,
     "task": false
    }
   },
   "outputs": [],
   "source": [
    "# YOUR CODE HERE\n",
    "raise NotImplementedError()"
   ]
  },
  {
   "cell_type": "markdown",
   "metadata": {
    "deletable": false,
    "editable": false,
    "nbgrader": {
     "cell_type": "markdown",
     "checksum": "37a2037e62b5c4d54df78ba857683263",
     "grade": false,
     "grade_id": "method_dir",
     "locked": true,
     "schema_version": 3,
     "solution": false,
     "task": false
    }
   },
   "source": [
    "Explain in your own words how will manage to tackle this problem:"
   ]
  },
  {
   "cell_type": "markdown",
   "metadata": {
    "deletable": false,
    "nbgrader": {
     "cell_type": "markdown",
     "checksum": "c6737c775cd838b86644634b8662aa15",
     "grade": true,
     "grade_id": "explanation",
     "locked": false,
     "points": 3,
     "schema_version": 3,
     "solution": true,
     "task": false
    }
   },
   "source": [
    "YOUR ANSWER HERE"
   ]
  },
  {
   "cell_type": "markdown",
   "metadata": {
    "deletable": false,
    "editable": false,
    "nbgrader": {
     "cell_type": "markdown",
     "checksum": "2e022dec6100ce0eccc894fded9cb8a0",
     "grade": false,
     "grade_id": "code_dir",
     "locked": true,
     "schema_version": 3,
     "solution": false,
     "task": false
    }
   },
   "source": [
    "Implement the method you explained above:"
   ]
  },
  {
   "cell_type": "code",
   "execution_count": null,
   "metadata": {
    "deletable": false,
    "nbgrader": {
     "cell_type": "code",
     "checksum": "b3596b9982f6d7e4f778b579596519df",
     "grade": true,
     "grade_id": "monte_carlo",
     "locked": false,
     "points": 4,
     "schema_version": 3,
     "solution": true,
     "task": false
    }
   },
   "outputs": [],
   "source": [
    "# YOUR CODE HERE\n",
    "raise NotImplementedError()"
   ]
  },
  {
   "cell_type": "markdown",
   "metadata": {
    "deletable": false,
    "editable": false,
    "nbgrader": {
     "cell_type": "markdown",
     "checksum": "bcef04b2f4586f0ea73f82ada54ad10f",
     "grade": false,
     "grade_id": "example2",
     "locked": true,
     "schema_version": 3,
     "solution": false,
     "task": false
    }
   },
   "source": [
    "An example of plot you can get:\n",
    "\n",
    "![](plot_hoeffding.png)"
   ]
  }
 ],
 "metadata": {
  "kernelspec": {
   "display_name": "Python 3.9 (tensorflow)",
   "language": "python",
   "name": "tensorflow"
  },
  "language_info": {
   "codemirror_mode": {
    "name": "ipython",
    "version": 3
   },
   "file_extension": ".py",
   "mimetype": "text/x-python",
   "name": "python",
   "nbconvert_exporter": "python",
   "pygments_lexer": "ipython3",
   "version": "3.9.10"
  }
 },
 "nbformat": 4,
 "nbformat_minor": 1
}
